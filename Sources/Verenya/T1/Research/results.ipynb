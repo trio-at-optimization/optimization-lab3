{
 "cells": [
  {
   "cell_type": "code",
   "execution_count": 11,
   "metadata": {
    "ExecuteTime": {
     "end_time": "2023-06-08T09:28:08.994990500Z",
     "start_time": "2023-06-08T09:28:05.880651300Z"
    }
   },
   "outputs": [],
   "source": [
    "import sys\n",
    "sys.path.append('../../../')\n",
    "import helper\n",
    "\n",
    "import numpy as np\n",
    "import matplotlib.pyplot as plt"
   ]
  },
  {
   "cell_type": "code",
   "execution_count": 12,
   "metadata": {},
   "outputs": [
    {
     "name": "stdout",
     "output_type": "stream",
     "text": [
      "{'dataset_name': '3', 'method': 'gauss-newton', 'init_dist_x': 50, 'init_dist_y': 0, 'init_density_x': 101, 'init_density_y': 1}\n"
     ]
    }
   ],
   "source": [
    "results = helper.get_filenames_results()\n",
    "for key in results:\n",
    "    print(helper.get_params_results(key))"
   ]
  },
  {
   "cell_type": "code",
   "execution_count": 13,
   "metadata": {},
   "outputs": [],
   "source": [
    "def print_results_one_line(results_list, labels_list, axis=0):\n",
    "    for i in range(len(results_list)):\n",
    "        plt.plot(results_list[i][:, axis], results_list[i][:, 2], label=labels_list[i])\n",
    "    plt.xlabel(f'init point axis={axis}')\n",
    "    plt.ylabel('Steps')\n",
    "    plt.title('Research starting point')\n",
    "    plt.grid(True)\n",
    "    plt.legend()\n",
    "    plt.show()"
   ]
  },
  {
   "cell_type": "code",
   "execution_count": 14,
   "metadata": {},
   "outputs": [],
   "source": [
    "def get_and_print_result(name_lists, axis):\n",
    "    results_list = []\n",
    "    labels_list = []\n",
    "    for name in name_lists:\n",
    "        research = helper.load_matrix(results[name])\n",
    "        results_list = [research]\n",
    "        labels_list = [helper.get_params_results(name)['method']]\n",
    "\n",
    "    print_results_one_line(results_list, labels_list, axis=axis)"
   ]
  },
  {
   "cell_type": "code",
   "execution_count": 15,
   "metadata": {},
   "outputs": [
    {
     "ename": "ValueError",
     "evalue": "invalid literal for int() with base 10: '['",
     "output_type": "error",
     "traceback": [
      "\u001b[1;31m---------------------------------------------------------------------------\u001b[0m",
      "\u001b[1;31mValueError\u001b[0m                                Traceback (most recent call last)",
      "Cell \u001b[1;32mIn[15], line 1\u001b[0m\n\u001b[1;32m----> 1\u001b[0m get_and_print_result([\u001b[39m'\u001b[39;49m\u001b[39m1\u001b[39;49m\u001b[39m'\u001b[39;49m], \u001b[39m0\u001b[39;49m)\n",
      "Cell \u001b[1;32mIn[14], line 5\u001b[0m, in \u001b[0;36mget_and_print_result\u001b[1;34m(name_lists, axis)\u001b[0m\n\u001b[0;32m      3\u001b[0m labels_list \u001b[39m=\u001b[39m []\n\u001b[0;32m      4\u001b[0m \u001b[39mfor\u001b[39;00m name \u001b[39min\u001b[39;00m name_lists:\n\u001b[1;32m----> 5\u001b[0m     research \u001b[39m=\u001b[39m helper\u001b[39m.\u001b[39;49mload_matrix(results[name])\n\u001b[0;32m      6\u001b[0m     results_list \u001b[39m=\u001b[39m [research]\n\u001b[0;32m      7\u001b[0m     labels_list \u001b[39m=\u001b[39m [helper\u001b[39m.\u001b[39mget_params_results(name)[\u001b[39m'\u001b[39m\u001b[39mmethod\u001b[39m\u001b[39m'\u001b[39m]]\n",
      "File \u001b[1;32mc:\\Users\\My\\Desktop\\GitRepo\\metopt-lab3\\Sources\\helper\\package_dataset\\module_save_load.py:52\u001b[0m, in \u001b[0;36mload_matrix\u001b[1;34m(filename)\u001b[0m\n\u001b[0;32m     50\u001b[0m \u001b[39mwith\u001b[39;00m \u001b[39mopen\u001b[39m(filename, \u001b[39m'\u001b[39m\u001b[39mr\u001b[39m\u001b[39m'\u001b[39m) \u001b[39mas\u001b[39;00m file:\n\u001b[0;32m     51\u001b[0m     line \u001b[39m=\u001b[39m file\u001b[39m.\u001b[39mreadline()\u001b[39m.\u001b[39mstrip()\n\u001b[1;32m---> 52\u001b[0m     rows, cols \u001b[39m=\u001b[39m \u001b[39mmap\u001b[39m(\u001b[39mint\u001b[39m, line\u001b[39m.\u001b[39msplit())\n\u001b[0;32m     53\u001b[0m     result_matrix \u001b[39m=\u001b[39m np\u001b[39m.\u001b[39mloadtxt(file, delimiter\u001b[39m=\u001b[39m\u001b[39m'\u001b[39m\u001b[39m \u001b[39m\u001b[39m'\u001b[39m, max_rows\u001b[39m=\u001b[39mrows)\n\u001b[0;32m     54\u001b[0m \u001b[39mreturn\u001b[39;00m result_matrix\n",
      "\u001b[1;31mValueError\u001b[0m: invalid literal for int() with base 10: '['"
     ]
    }
   ],
   "source": [
    "get_and_print_result(['1'], 0)"
   ]
  }
 ],
 "metadata": {
  "kernelspec": {
   "display_name": "Python 3",
   "language": "python",
   "name": "python3"
  },
  "language_info": {
   "codemirror_mode": {
    "name": "ipython",
    "version": 3
   },
   "file_extension": ".py",
   "mimetype": "text/x-python",
   "name": "python",
   "nbconvert_exporter": "python",
   "pygments_lexer": "ipython3",
   "version": "3.9.0"
  },
  "orig_nbformat": 4
 },
 "nbformat": 4,
 "nbformat_minor": 2
}
